{
  "cells": [
    {
      "cell_type": "code",
      "execution_count": null,
      "metadata": {
        "colab": {
          "base_uri": "https://localhost:8080/"
        },
        "id": "AAtNBr2vNkCl",
        "outputId": "e0fb3c60-c315-476a-81b9-20749da26dbd"
      },
      "outputs": [
        {
          "name": "stdout",
          "output_type": "stream",
          "text": [
            "GeeksforGeeks\n"
          ]
        }
      ],
      "source": [
        "# code begins\n",
        "print(\"GeeksforGeeks\")"
      ]
    },
    {
      "cell_type": "code",
      "execution_count": null,
      "metadata": {
        "colab": {
          "base_uri": "https://localhost:8080/"
        },
        "id": "dSGumsD_N8oE",
        "outputId": "c8abc501-a75c-44ec-f9d4-72c6c50217d6"
      },
      "outputs": [
        {
          "name": "stdout",
          "output_type": "stream",
          "text": [
            "1\n"
          ]
        }
      ],
      "source": [
        "# Large integer\n",
        "x = 000000000000000000000000000000000;\n",
        "x = x + 1\n",
        "print(x)"
      ]
    },
    {
      "cell_type": "code",
      "execution_count": null,
      "metadata": {
        "colab": {
          "base_uri": "https://localhost:8080/"
        },
        "id": "EcFrYvt6OlFx",
        "outputId": "6e552612-8741-41c5-d4c2-4a732388a1b1"
      },
      "outputs": [
        {
          "name": "stdout",
          "output_type": "stream",
          "text": [
            "<class 'str'>\n",
            "<class 'int'>\n"
          ]
        }
      ],
      "source": [
        "# Type of variables\n",
        "\n",
        "A = \"GeeksforGeeks\"\n",
        "B = 3\n",
        "\n",
        "print(type(A))\n",
        "print(type(B))"
      ]
    },
    {
      "cell_type": "code",
      "execution_count": null,
      "metadata": {
        "colab": {
          "base_uri": "https://localhost:8080/"
        },
        "id": "5nOHUOWXPIqu",
        "outputId": "626e9b10-b597-4dd5-ac62-624cf8e59cb7"
      },
      "outputs": [
        {
          "name": "stdout",
          "output_type": "stream",
          "text": [
            "100000000000000000000000000000000000000000000000000000000000000000000000000000000000000000000000000000000000000000000000000000000000000000000000000000000000000000000000000000000000000000000000000000000\n"
          ]
        }
      ],
      "source": [
        "print(100**100)"
      ]
    },
    {
      "cell_type": "code",
      "execution_count": null,
      "metadata": {
        "colab": {
          "base_uri": "https://localhost:8080/"
        },
        "id": "pclDi0-PPce8",
        "outputId": "3f2b54a1-9d5f-4eef-e418-051b3187d730"
      },
      "outputs": [
        {
          "name": "stdout",
          "output_type": "stream",
          "text": [
            "GeeksforGeeks\n"
          ]
        }
      ],
      "source": [
        "# String concatenate\n",
        "\n",
        "A = \"Geeks\"\n",
        "B = \"for\"\n",
        "C = \"Geeks\"\n",
        "print(A+B+C)"
      ]
    },
    {
      "cell_type": "markdown",
      "metadata": {
        "id": "SJCcE9GvQOf6"
      },
      "source": [
        "**Variables, Expressions, Conditions and Functions**"
      ]
    },
    {
      "cell_type": "code",
      "execution_count": null,
      "metadata": {
        "colab": {
          "base_uri": "https://localhost:8080/"
        },
        "id": "x5K9UthjQaUn",
        "outputId": "119aa1cd-e50c-4ba0-c6dc-f8116acf95fd"
      },
      "outputs": [
        {
          "name": "stdout",
          "output_type": "stream",
          "text": [
            "2\n",
            "3\n"
          ]
        }
      ],
      "source": [
        "# Variables a and A\n",
        "a = 2\n",
        "A = 3\n",
        "print(a)\n",
        "print(A)"
      ]
    },
    {
      "cell_type": "markdown",
      "metadata": {
        "id": "Jap8AsSPQ8Jc"
      },
      "source": [
        "Conclusion - Variables need not be declared and they are case sensitive"
      ]
    },
    {
      "cell_type": "code",
      "execution_count": null,
      "metadata": {
        "colab": {
          "base_uri": "https://localhost:8080/"
        },
        "id": "f1Rjgr2oRHme",
        "outputId": "ad092a6a-c6f3-4a6e-c3f3-2e31af73c735"
      },
      "outputs": [
        {
          "name": "stdout",
          "output_type": "stream",
          "text": [
            "3\n",
            "4.5\n",
            "helloworld\n"
          ]
        }
      ],
      "source": [
        "# Python program to declare variables\n",
        "myNumber = 3\n",
        "print(myNumber)\n",
        "\n",
        "myNumber2 = 4.5\n",
        "print(myNumber2)\n",
        "\n",
        "myNumber =\"helloworld\"\n",
        "print(myNumber)"
      ]
    },
    {
      "cell_type": "markdown",
      "metadata": {
        "id": "o4h9sFWWjKor"
      },
      "source": [
        "**#Conditions**"
      ]
    },
    {
      "cell_type": "code",
      "execution_count": null,
      "metadata": {
        "colab": {
          "base_uri": "https://localhost:8080/"
        },
        "id": "rmXxOs6ajPk-",
        "outputId": "3efd79f9-2185-4ad0-9210-33f61b3f33a2"
      },
      "outputs": [
        {
          "name": "stdout",
          "output_type": "stream",
          "text": [
            "a is even\n"
          ]
        }
      ],
      "source": [
        "a = 2\n",
        "if a % 2 == 0:\n",
        "  print(\"a is even\")\n",
        "elif a % 2 != 0:\n",
        "  print(\"a is odd\")"
      ]
    },
    {
      "cell_type": "markdown",
      "metadata": {
        "id": "KslIfjbflHii"
      },
      "source": [
        "***Explanation - if a module 2 = 0 we say that a is even elif a module 2 is not equal to 0 we print a is odd***"
      ]
    },
    {
      "cell_type": "markdown",
      "metadata": {
        "id": "-cPflJXdlhj6"
      },
      "source": [
        "**#Functions**"
      ]
    },
    {
      "cell_type": "code",
      "execution_count": null,
      "metadata": {
        "colab": {
          "base_uri": "https://localhost:8080/"
        },
        "id": "X2oXIw-Nlm3t",
        "outputId": "9147ea09-ff66-490d-b004-abd79b6e2f38"
      },
      "outputs": [
        {
          "name": "stdout",
          "output_type": "stream",
          "text": [
            "a is even\n"
          ]
        }
      ],
      "source": [
        "def checkoddoreven(a):\n",
        "  if a % 2 == 0:\n",
        "    print(\"a is even\")\n",
        "  elif a % 2 != 0:\n",
        "    print(\"a is odd\")\n",
        "\n",
        "checkoddoreven(2)\n",
        "\n",
        "\n"
      ]
    },
    {
      "cell_type": "markdown",
      "metadata": {
        "id": "_0B4Ng3hmfAY"
      },
      "source": [
        "***Explanation - The function can be invoked by writing the function name followed by the parameter lists in the bracket***"
      ]
    },
    {
      "cell_type": "markdown",
      "metadata": {
        "id": "3NbnOvRHmxxe"
      },
      "source": [
        "**# String: Immutable** that is they cannot be changed"
      ]
    },
    {
      "cell_type": "code",
      "execution_count": null,
      "metadata": {
        "colab": {
          "base_uri": "https://localhost:8080/"
        },
        "id": "CnRqSzJqtrEz",
        "outputId": "1e43c3ee-8dd7-49cd-ffaf-81f28bdd191b"
      },
      "outputs": [
        {
          "name": "stdout",
          "output_type": "stream",
          "text": [
            "Python in GeeksforGeeks\n"
          ]
        }
      ],
      "source": [
        "a = \"Python in GeeksforGeeks\"\n",
        "print(a)"
      ]
    },
    {
      "cell_type": "markdown",
      "metadata": {
        "id": "syHIc_nwt6af"
      },
      "source": [
        "**# Lists: Mutable** they are just like arrays but just declared in a different language but the most powerful thing is lists need not be homogeneous\n",
        "-A single list can contain strings integers as well as objects\n",
        "-List can be used for implementing stacks and queues\n",
        "-List are mutable that is they can be altered once declared let's look at an example on lists we have a list here containing\n",
        "-Integers 6, string is geeksforgeeks, and another integer is 1, now suppose we need to append 3 in this list. You can print any element of the list."
      ]
    },
    {
      "cell_type": "code",
      "execution_count": null,
      "metadata": {
        "colab": {
          "base_uri": "https://localhost:8080/"
        },
        "id": "-34StrHG695r",
        "outputId": "be0307d9-7630-4e5b-b091-9eca746e7e6e"
      },
      "outputs": [
        {
          "name": "stdout",
          "output_type": "stream",
          "text": [
            "[6, 'GeekforGeeks', 1]\n",
            "GeekforGeeks\n"
          ]
        }
      ],
      "source": [
        "list = [6, \"GeekforGeeks\" , 1]\n",
        "print(list)\n",
        "list.append(3)\n",
        "print(list[1])"
      ]
    },
    {
      "cell_type": "markdown",
      "metadata": {
        "id": "oxj3ItvZ7-Hc"
      },
      "source": [
        "**#Tuples:Immutable ** they are just like lists with only one difference that they are immutable that is they cannot be changed once declared. We declare tuples with round brackets unlike lists to print it we need to write print command"
      ]
    },
    {
      "cell_type": "code",
      "execution_count": null,
      "metadata": {
        "colab": {
          "base_uri": "https://localhost:8080/"
        },
        "id": "2jB80n6E9vjV",
        "outputId": "fa68a2fc-5771-4447-feba-0effd3857ce9"
      },
      "outputs": [
        {
          "name": "stdout",
          "output_type": "stream",
          "text": [
            "(6, 'GeekforGeeks', 1)\n",
            "GeekforGeeks\n"
          ]
        }
      ],
      "source": [
        "tup = (6, \"GeekforGeeks\" ,1)\n",
        "print(tup)\n",
        "print(tup[1])"
      ]
    },
    {
      "cell_type": "markdown",
      "metadata": {
        "id": "4f5OKwsS_NHz"
      },
      "source": [
        "**Example1: Iteration by while loop for a condition** ** Looping can be performed in python bu using for and while loops. Upon a particular condition we can also iterate on strings, lists and tuples. Example: we initialize i with the value equal to one and run a loop while i is smaller than 10. Each time we increment the value of i by one and print i."
      ]
    },
    {
      "cell_type": "code",
      "execution_count": null,
      "metadata": {
        "colab": {
          "base_uri": "https://localhost:8080/"
        },
        "id": "74Ev9BLWE1M4",
        "outputId": "821cdb46-4074-49ef-8e05-5a176940d450"
      },
      "outputs": [
        {
          "name": "stdout",
          "output_type": "stream",
          "text": [
            "2\n",
            "3\n",
            "4\n",
            "5\n",
            "6\n",
            "7\n",
            "8\n",
            "9\n",
            "10\n"
          ]
        }
      ],
      "source": [
        "i = 1\n",
        "\n",
        "while i < 10:\n",
        "  i+=1\n",
        "  print(i)\n"
      ]
    },
    {
      "cell_type": "markdown",
      "metadata": {
        "id": "Tl3_zwueFUXA"
      },
      "source": [
        "**Example 2: Iteration by for loop in string**. We first declare string s equal to Hello world then we just write for i in s that implies we are iterating on entire length of string s by a variable i and then we print i."
      ]
    },
    {
      "cell_type": "code",
      "execution_count": null,
      "metadata": {
        "colab": {
          "base_uri": "https://localhost:8080/"
        },
        "id": "1dW-wIRLGPZT",
        "outputId": "0991625c-6256-46fa-da59-25832e766779"
      },
      "outputs": [
        {
          "name": "stdout",
          "output_type": "stream",
          "text": [
            "H\n",
            "e\n",
            "l\n",
            "l\n",
            "o\n",
            " \n",
            "W\n",
            "o\n",
            "r\n",
            "l\n",
            "d\n"
          ]
        }
      ],
      "source": [
        "s = \"Hello World\"\n",
        "\n",
        "for i in s:\n",
        "  print(i)"
      ]
    },
    {
      "cell_type": "markdown",
      "metadata": {
        "id": "ncpBOe4TGnk8"
      },
      "source": [
        "**Example 3: Iteration by for loop on list**. that means iterating the length of L by variable i"
      ]
    },
    {
      "cell_type": "code",
      "execution_count": null,
      "metadata": {
        "colab": {
          "base_uri": "https://localhost:8080/"
        },
        "id": "ndwaUFdjHPdT",
        "outputId": "6a193dac-44cf-4af4-9c86-8c43a05c9d01"
      },
      "outputs": [
        {
          "name": "stdout",
          "output_type": "stream",
          "text": [
            "1\n",
            "2\n",
            "3\n",
            "4\n",
            "5\n",
            "6\n"
          ]
        }
      ],
      "source": [
        "l = [1,2,3,4,5,6]\n",
        "\n",
        "for i in l:\n",
        "  print(i)"
      ]
    },
    {
      "cell_type": "markdown",
      "metadata": {
        "id": "rcc_rdhpHmnr"
      },
      "source": [
        "**Example 4: Iteration by for loop for range**"
      ]
    },
    {
      "cell_type": "code",
      "execution_count": null,
      "metadata": {
        "colab": {
          "base_uri": "https://localhost:8080/"
        },
        "id": "U9ZvuPWMHwhM",
        "outputId": "5a4bc663-84ec-4950-8566-23bccac1c40a"
      },
      "outputs": [
        {
          "name": "stdout",
          "output_type": "stream",
          "text": [
            "0\n",
            "1\n",
            "2\n",
            "3\n",
            "4\n",
            "5\n",
            "6\n",
            "7\n",
            "8\n",
            "9\n"
          ]
        }
      ],
      "source": [
        "for i in range(0,10):\n",
        "  print(i)"
      ]
    },
    {
      "cell_type": "markdown",
      "metadata": {
        "id": "ip0Z1jlMIZ86"
      },
      "source": [
        "**PYTHON STRING METHODS** **PART-1**"
      ]
    },
    {
      "cell_type": "markdown",
      "metadata": {
        "id": "fO_dBOdf9Ivd"
      },
      "source": [
        "**len() function returns the lenth of the string. Let's look at an example, we declare a string A as \"GeeksforGeeks\". To find the length we print len(A)**."
      ]
    },
    {
      "cell_type": "code",
      "execution_count": null,
      "metadata": {
        "colab": {
          "base_uri": "https://localhost:8080/"
        },
        "id": "8thSKpHV-LfG",
        "outputId": "a7cf957e-05bf-4935-d9ed-30f72600fec1"
      },
      "outputs": [
        {
          "name": "stdout",
          "output_type": "stream",
          "text": [
            "13\n"
          ]
        }
      ],
      "source": [
        "# len() function\n",
        "A = \"GeeksforGeeks\"\n",
        "print(len(A))"
      ]
    },
    {
      "cell_type": "markdown",
      "metadata": {
        "id": "Kr6DTICu-5ln"
      },
      "source": [
        "**count() function counts the occurrence of a substring in the entire string**. Let's look at an example, suppose we need to search for a substring \"is\" in this string. So, we write count and in parenthesis we first write the substring to be searched (is) then, we write the starting index (which is 0 by default) and then ending index( which is equal to length by default)."
      ]
    },
    {
      "cell_type": "code",
      "execution_count": null,
      "metadata": {
        "colab": {
          "base_uri": "https://localhost:8080/"
        },
        "id": "39IERfXnL0BQ",
        "outputId": "d479f520-ef29-41f5-a064-f1c122a4d0f4"
      },
      "outputs": [
        {
          "name": "stdout",
          "output_type": "stream",
          "text": [
            "2\n"
          ]
        }
      ],
      "source": [
        "# count()\n",
        "A = \"This is a python tutorial\"\n",
        "print(A.count(\"is\", 0, len(A)))"
      ]
    },
    {
      "cell_type": "markdown",
      "metadata": {
        "id": "I-gEZHlVMXYT"
      },
      "source": [
        "**Alignment fuction That is center(), ljust(), rjust()**. These functions are used to surround the string with a character repeated both sides, on the right and on left respectively.These functions takes 2 arguments , first the length of new string formed after applying the alignment and second the character with which we wish to align the string.Let's look at an example on all the 3 functions. Suppose we need to align **str = geeksforgeeks** to the center, left and right with a hyphen. So, we write str.center and within round brackets the size(20) and character hyphen. Let's run this code. We can see that the output is center, left and right aligned of geeksforgeeks."
      ]
    },
    {
      "cell_type": "code",
      "execution_count": null,
      "metadata": {
        "colab": {
          "base_uri": "https://localhost:8080/"
        },
        "id": "k8P1Q1LmV_6m",
        "outputId": "86413c75-639b-4118-b479-7328f7929754"
      },
      "outputs": [
        {
          "name": "stdout",
          "output_type": "stream",
          "text": [
            "---GeeksforGeeks----\n",
            "GeeksforGeeks-------\n",
            "-------GeeksforGeeks\n"
          ]
        }
      ],
      "source": [
        "# center(), ljust(), rjust()\n",
        "\n",
        "str = \"GeeksforGeeks\"\n",
        "print(str.center(20,'-'))\n",
        "print(str.ljust(20,'-'))\n",
        "print(str.rjust(20,'-'))"
      ]
    },
    {
      "cell_type": "markdown",
      "metadata": {
        "id": "UiGLhFgLXp_4"
      },
      "source": [
        "**isalpha() function** returns true when all the characters in the string are alphabets else, returns false. **isalnum() function** returns true if all the characters are either numbers or alphabet else, returns false.**isspace() function** returns true if all the characters in the string are spaces. Let's look at this code. We have declared 3 string. Now,let's run all the three functions on all 3 strings. Let's run this code. We can see that first string returns true with isalpha and isalnum. It returns false with isspace. The next string just returns true with isalnum as it contains both alphabets and numbers.The third string just contains spaces so returns true just with isspace."
      ]
    },
    {
      "cell_type": "code",
      "execution_count": null,
      "metadata": {
        "colab": {
          "base_uri": "https://localhost:8080/"
        },
        "id": "T3xaMieLZQgN",
        "outputId": "0f64dbcc-8582-445f-b581-e2c3b63dd771"
      },
      "outputs": [
        {
          "name": "stdout",
          "output_type": "stream",
          "text": [
            "For string 1: isalpha() -->  True\n",
            "For string 1: isalnum() -->  True\n",
            "For string 1: isspace() -->  False\n",
            "\n",
            "For string 2: isalpha() -->  False\n",
            "For string 2: isalnum() -->  True\n",
            "For string 2: isspace() -->  False\n",
            "\n",
            "For string 3: isalpha() -->  False\n",
            "For string 3: isalnum() -->  False\n",
            "For string 3: isspace() -->  True\n"
          ]
        }
      ],
      "source": [
        "str1 = \"abc\"\n",
        "str2 = \"ab12\"\n",
        "str3 = \"  \"\n",
        "\n",
        "print(\"For string 1: isalpha() --> \",str1.isalpha())\n",
        "print(\"For string 1: isalnum() --> \",str1.isalnum())\n",
        "print(\"For string 1: isspace() --> \",str1.isspace())\n",
        "print()\n",
        "print(\"For string 2: isalpha() --> \",str2.isalpha())\n",
        "print(\"For string 2: isalnum() --> \",str2.isalnum())\n",
        "print(\"For string 2: isspace() --> \",str2.isspace())\n",
        "print()\n",
        "print(\"For string 3: isalpha() --> \",str3.isalpha())\n",
        "print(\"For string 3: isalnum() --> \",str3.isalnum())\n",
        "print(\"For string 3: isspace() --> \",str3.isspace())"
      ]
    },
    {
      "cell_type": "markdown",
      "metadata": {
        "id": "Bq2LokLIc1tp"
      },
      "source": [
        "**join() function** is used to join a sequence of strings with another string. Suppose we need to join all the strings present in a list with an underscore.Let's look at this example. We have 3 strings in the list l and we need to join it with an underscore. So, we declare underscore as string s.And write s.join(l)"
      ]
    },
    {
      "cell_type": "code",
      "execution_count": null,
      "metadata": {
        "colab": {
          "base_uri": "https://localhost:8080/"
        },
        "id": "wa4QXULvd7nA",
        "outputId": "5730f6ea-383a-46d3-e16f-789bcbff969f"
      },
      "outputs": [
        {
          "name": "stdout",
          "output_type": "stream",
          "text": [
            "Geeks _ for _ Geeks\n"
          ]
        }
      ],
      "source": [
        "# join()\n",
        "\n",
        "l = [\"Geeks\" , \"for\" , \"Geeks\"]\n",
        "s = \" _ \"\n",
        "print(s.join(l))"
      ]
    },
    {
      "cell_type": "markdown",
      "metadata": {
        "id": "yhodcmx2kFzC"
      },
      "source": [
        "**PYTHON STRING METHODS- PART 2**"
      ]
    },
    {
      "cell_type": "markdown",
      "metadata": {
        "id": "pLyQawGL_1G3"
      },
      "source": [
        "**find() functions** and **rfind()** These functions are used to find the position of a substring within a string. They both return minus 1 if the string is not found. The function find() returns the first occurrence of the substring and rfind() returns the last occurrence of the substring. Let's look at examples on both of them. Both these functions take three parameters **1** The string to be searched (is)** 2**. which is starting index which is 0 by default and **3** the ending index which is equal to the length of string by default. Let's search for the substring is in the string str using both find() and rfind() functions. Let's run this code. we can see that the output is 2 and 5 that is the starting index of first and last occurrence of the substring."
      ]
    },
    {
      "cell_type": "code",
      "execution_count": null,
      "metadata": {
        "colab": {
          "base_uri": "https://localhost:8080/"
        },
        "id": "ovF1OoBXOOGv",
        "outputId": "b943ca94-524b-42ed-ab65-068f483c0076"
      },
      "outputs": [
        {
          "name": "stdout",
          "output_type": "stream",
          "text": [
            "The first occurrence of 'is' is at : \n",
            "2\n",
            "The last occurrence of 'is' is at : \n",
            "5\n"
          ]
        }
      ],
      "source": [
        "# Python code to demonstrate working of\n",
        "# find() and rfind()\n",
        "str = \"This is a python tutorial\"\n",
        "\n",
        "print (\"The first occurrence of 'is' is at : \")\n",
        "print (str.find( \"is\",0,len(str) ) )\n",
        "\n",
        "print(\"The last occurrence of 'is' is at : \")\n",
        "print (str.rfind( \"is\",0,len(str) ) )\n"
      ]
    },
    {
      "cell_type": "markdown",
      "metadata": {
        "id": "46w51A39PvW6"
      },
      "source": [
        "**startswith() function** and **endswith()** function. The purpose of these functions is to return true if the string begins or ends with mentioned strength else the return false. Let's see an example suppose we have two **strings A** = geeksforgeeks **and B** = geeks if A dot starts with B we print A starts with B else we print A does not start with B and if A dot ends with B we print A ends with B else we print A does not end with B"
      ]
    },
    {
      "cell_type": "code",
      "execution_count": null,
      "metadata": {
        "colab": {
          "base_uri": "https://localhost:8080/"
        },
        "id": "LJBtr2foRka9",
        "outputId": "170f865b-7c27-4ecd-d286-e73dfd8a580b"
      },
      "outputs": [
        {
          "name": "stdout",
          "output_type": "stream",
          "text": [
            "A starts with B\n",
            "A ends with B\n"
          ]
        }
      ],
      "source": [
        "# startswith() and endswith()\n",
        "\n",
        "A = \"GeeksforGeeks\"\n",
        "B = \"Geeks\"\n",
        "if (A.startswith(B)):\n",
        "  print(\"A starts with B\")\n",
        "else:\n",
        "  print(\"A does not start with B\")\n",
        "\n",
        "if (A.endswith(B)):\n",
        "  print(\"A ends with B\")\n",
        "else:\n",
        "  print(\"A does not end with B\")"
      ]
    },
    {
      "cell_type": "markdown",
      "metadata": {
        "id": "zJmwb8kBS6jg"
      },
      "source": [
        "**isupper() and islower() functions**. isupper() returns true if all the elements of the string are in upppercase else returns false. islower() returns true if all the elements of the string are in lowercase else returns false. Let's look at an example, we have **3 strings A** which has all the characters in lowercase , **B** which has all the characters in uppercase and **C** having mixed case now let's run the two function on all the three of them. We can see that the output is as expected A returns true with islower, B returns true with isupper, and C returns false for both of them."
      ]
    },
    {
      "cell_type": "code",
      "execution_count": null,
      "metadata": {
        "colab": {
          "base_uri": "https://localhost:8080/"
        },
        "id": "pqKO_e3JUtII",
        "outputId": "7f3c78e1-2950-4ad3-c388-a7479cd8cf23"
      },
      "outputs": [
        {
          "name": "stdout",
          "output_type": "stream",
          "text": [
            "For string A\n",
            "islower():  True\n",
            "isupper():  False\n",
            "\n",
            "For string B\n",
            "islower():  False\n",
            "isupper():  True\n",
            "\n",
            "For string C\n",
            "islower():  False\n",
            "isupper():  False\n"
          ]
        }
      ],
      "source": [
        "# isupper() and islower()\n",
        "\n",
        "A = \"geeksforgeeks\"\n",
        "B = \"GEEKSFORGEEKS\"\n",
        "C = \"GeeksforGeeks\"\n",
        "\n",
        "print(\"For string A\")\n",
        "print(\"islower(): \",A.islower())\n",
        "print(\"isupper(): \",A.isupper())\n",
        "print()\n",
        "print(\"For string B\")\n",
        "print(\"islower(): \",B.islower())\n",
        "print(\"isupper(): \",B.isupper())\n",
        "print()\n",
        "print(\"For string C\")\n",
        "print(\"islower(): \",C.islower())\n",
        "print(\"isupper(): \",C.isupper())\n"
      ]
    },
    {
      "cell_type": "markdown",
      "metadata": {
        "id": "xZlCIMKpWS47"
      },
      "source": [
        "**upper(), lower(), title(), and swapcase() functions**. When we write string name dot any of these functions then **upper** returns a new string having all the characters in upper case, **lower** returns a new string having all the characters in lower case, **swapcase** return the new string having swapped case that is it changes lowercase to uppercase and uppercase to lowercase. The **title function** returns a new string which has all the first letters of every word in uppercase that is the title case. Let's run this program. we can see that the output is as expected."
      ]
    },
    {
      "cell_type": "code",
      "execution_count": null,
      "metadata": {
        "colab": {
          "base_uri": "https://localhost:8080/"
        },
        "id": "BRHzDooAYWRl",
        "outputId": "ee0ad0f9-a38a-4531-c599-f34aeaf699c0"
      },
      "outputs": [
        {
          "name": "stdout",
          "output_type": "stream",
          "text": [
            "Output of the function upper:  YOU ARE WATCHING A PYTHON TUTORIAL AT GEEKSFORGEEKS\n",
            "Output of the function lower:  you are watching a python tutorial at geeksforgeeks\n",
            "Output of the function title:  You Are Watching A Python Tutorial At Geeksforgeeks\n",
            "Output of the function swapcase:  yOU ARE WATCHING A PYTHON TUTORIAL AT gEEKSFORgEEKS\n"
          ]
        }
      ],
      "source": [
        "# upper() lower() title() swapcase()\n",
        "\n",
        "A = \"You are watching a python tutorial at GeeksforGeeks\"\n",
        "\n",
        "print(\"Output of the function upper: \",A.upper())\n",
        "print(\"Output of the function lower: \",A.lower())\n",
        "print(\"Output of the function title: \",A.title())\n",
        "print(\"Output of the function swapcase: \",A.swapcase())"
      ]
    },
    {
      "cell_type": "markdown",
      "metadata": {
        "id": "QqQgGnZcZxVg"
      },
      "source": [
        "**PYTHON STRING METHODS - PART 3**"
      ]
    },
    {
      "cell_type": "markdown",
      "metadata": {
        "id": "b4gre8DsZ4Q7"
      },
      "source": [
        "**strip(), lstrip(), and rstrip() functions**. **Strip function()** removes all the leading and trailing characters mentioned in its argument. **Lstrip function()** removes all the leading and **Rstrip function()** removes all the trailing characters from the string. Let's declare our string as str = **\"---geeksforgeeks---\"** , now let's run strip, lstrip, rstrip on this string with the argument hyphen. On running this code we can see that in the case of strip function () all leading and trailing hyphens are removed. In the case of lstrip() leading hyphens are removed and in case of rstrip function trailing hyphens are removed."
      ]
    },
    {
      "cell_type": "code",
      "execution_count": null,
      "metadata": {
        "colab": {
          "base_uri": "https://localhost:8080/"
        },
        "id": "48-1C07ymNPT",
        "outputId": "a793a9f1-b05a-4cb7-b03d-12b8cef73ade"
      },
      "outputs": [
        {
          "name": "stdout",
          "output_type": "stream",
          "text": [
            "string after stripping all '-' is : \n",
            "geeksforgeeks\n",
            "string after stripping all leading '-' is : \n",
            "geeksforgeeks---\n",
            " string after stripping all trailing '-' is : \n",
            "---geeksforgeeks\n"
          ]
        }
      ],
      "source": [
        "# strip(), lstrip() and rstrip()\n",
        "str = \"---geeksforgeeks---\"\n",
        "\n",
        "# using strip() to delete all '-'\n",
        "print ( \"string after stripping all '-' is : \")\n",
        "print ( str.strip('-') )\n",
        "\n",
        "# using lstrip() to delete all leading '-'\n",
        "print ( \"string after stripping all leading '-' is : \")\n",
        "print ( str.lstrip('-') )\n",
        "\n",
        "# using rstrip() to delete all trailing '-'\n",
        "print ( \" string after stripping all trailing '-' is : \")\n",
        "print ( str.rstrip('-') )"
      ]
    },
    {
      "cell_type": "markdown",
      "metadata": {
        "id": "tuE9dv9AnnE6"
      },
      "source": [
        "**min() and max() functions **returns the minimum and maximum value alphabet from the string. So we declare out string **str as \"geeksforgeeks\"**. Now, let's run min and max function on this string. We can see that the output is e and s as they are lexicographically minimum and maximum."
      ]
    },
    {
      "cell_type": "code",
      "execution_count": null,
      "metadata": {
        "colab": {
          "base_uri": "https://localhost:8080/"
        },
        "id": "rw-l8xBJodUf",
        "outputId": "0c0223d3-e50e-4827-cec0-5890e2538708"
      },
      "outputs": [
        {
          "name": "stdout",
          "output_type": "stream",
          "text": [
            "The minimum value character is : e\n",
            "The maximum value character is : s\n"
          ]
        }
      ],
      "source": [
        "# min() and max()\n",
        "str = \"geeksforgeeks\"\n",
        "\n",
        "# using min() to print the smallest character\n",
        "\n",
        "print (\"The minimum value character is : \" + min(str));\n",
        "\n",
        "# using max() to print the largest character\n",
        "\n",
        "print (\"The maximum value character is : \" + max(str));"
      ]
    },
    {
      "cell_type": "markdown",
      "metadata": {
        "id": "tmPK0rc8p9LT"
      },
      "source": [
        "**maktrans() and translate() functions**. Maktrans is used to map the contents of string 1 with string 2 with respective indices to be translated later using the translate functions. Translate function is used to swap the string elements mapped with the help of maktrans. In python3 we use **str.maktrans** for using the maktrans function. Now, let's see an example, we declare a string **str_=\"geeksforgeeks\"str1=\"gfo\" and str2=\"abc\"**. Now, we map str1 with str2 using maktrans that is we mapped **'g' with 'a'**, **'f' with 'b' and 'o' with 'c'** and print the mapped string of str using the translate function. Let's run this program, we can see that in the output, 'g' is replaced with 'a' , 'f' with replaced with 'b' and 'o' with replaced with 'c'."
      ]
    },
    {
      "cell_type": "code",
      "execution_count": null,
      "metadata": {
        "colab": {
          "base_uri": "https://localhost:8080/"
        },
        "id": "7VZSJBa1r9XF",
        "outputId": "b99b354b-4d54-47d8-eecd-9e5881b1c121"
      },
      "outputs": [
        {
          "name": "stdout",
          "output_type": "stream",
          "text": [
            "The string before translation using mapped elements is : \n",
            "geeksforgeeks\n",
            "The string after translation using mapped elements is : \n",
            "aeeksbcraeeks\n"
          ]
        }
      ],
      "source": [
        "str_ = \"geeksforgeeks\"\n",
        "\n",
        "str1 = \"gfo\"\n",
        "str2 = \"abc\"\n",
        "\n",
        "# using maktrans() to map elements of str2 with str1\n",
        "mapped = str.maketrans( str1, str2 );\n",
        "\n",
        "# using translate() to translate using the mapping\n",
        "print (\"The string before translation using mapped elements is : \")\n",
        "print(str_)\n",
        "print (\"The string after translation using mapped elements is : \")\n",
        "print(str_.translate(mapped)) ;"
      ]
    },
    {
      "cell_type": "markdown",
      "metadata": {
        "id": "gyH-_WAjt0kB"
      },
      "source": [
        "**replace() function** . This function is used to replace a substring with a new substring in the string. This function has 3 arguments. First the string to be replaced, second the string with which we wish to replace and third the number of replacements, by default this value is infinite."
      ]
    },
    {
      "cell_type": "code",
      "execution_count": null,
      "metadata": {
        "colab": {
          "base_uri": "https://localhost:8080/"
        },
        "id": "mUejr8cnvOOe",
        "outputId": "c95e41fc-6d0d-4532-91b9-68bc5d1b50c9"
      },
      "outputs": [
        {
          "name": "stdout",
          "output_type": "stream",
          "text": [
            "The string after replacing strings is : \n",
            "geeksforgeeks is for nerds\n"
          ]
        }
      ],
      "source": [
        "# replace()\n",
        "\n",
        "str = \"nerdsfornerds is for nerds\"\n",
        "\n",
        "str1 = \"nerds\"\n",
        "str2 = \"geeks\"\n",
        "\n",
        "# using replace() to replace str2 with str1 in str\n",
        "# only changes 2 occurrences\n",
        "print (\"The string after replacing strings is : \")\n",
        "print (str.replace( str1, str2, 2))"
      ]
    },
    {
      "cell_type": "markdown",
      "metadata": {
        "id": "hNKgfDvxgji1"
      },
      "source": [
        "**LIST METHODS AND OPERATORS IN PYTHON - 1**"
      ]
    },
    {
      "cell_type": "markdown",
      "metadata": {
        "id": "1-pAL_Mygv-q"
      },
      "source": [
        "Let's first discuss, \"**in**\" and **\"not in\"** operators in python. The \"**in**\" operator is used to check if an element is present in the list or not. It returns true if element is present in list else returns false. The \"**not in**\" operator is used to check if an element is not present in the list. Returns true if element is not present in list else returns false. Now, let's look at an example. we declare a list l [1, 4, 3, 2, 5] . In and not in are simple operators used to find whether a value exists in a data type or not.  "
      ]
    },
    {
      "cell_type": "code",
      "execution_count": null,
      "metadata": {
        "colab": {
          "base_uri": "https://localhost:8080/"
        },
        "id": "fy4Q4MmCjrVB",
        "outputId": "70690aed-b548-4897-93bd-0157b79e186d"
      },
      "outputs": [
        {
          "name": "stdout",
          "output_type": "stream",
          "text": [
            "4 is present in this list\n"
          ]
        }
      ],
      "source": [
        "# Python code to demonstrate the working of\n",
        "# \"in\" and \"not in\"\n",
        "# initializing list\n",
        "l = [1, 4, 3, 2, 5]\n",
        "\n",
        "# checking if 4 is in list using \"in\"\n",
        "if 4 in l:\n",
        "  print (\"4 is present in this list\")\n",
        "elif 4 not in l:\n",
        "  print (\"4 is not present in this list\")"
      ]
    },
    {
      "cell_type": "markdown",
      "metadata": {
        "id": "ZBDsOOU3lGIj"
      },
      "source": [
        "Now, let's discuss **len()**, **min()**, and **max()** methods in python. len() function returns the length of a list, max() returns the maximum element and min() returns the minimum element from the list."
      ]
    },
    {
      "cell_type": "code",
      "execution_count": null,
      "metadata": {
        "colab": {
          "base_uri": "https://localhost:8080/"
        },
        "id": "f1DSfIdJUbZh",
        "outputId": "3007ed16-fbcc-4c47-9186-c129bb9f1dce"
      },
      "outputs": [
        {
          "name": "stdout",
          "output_type": "stream",
          "text": [
            "The length of list is :  4\n",
            "The minimum element of list is :  1\n",
            "The maximum element of list is :  4\n"
          ]
        }
      ],
      "source": [
        "# len(), min() and max()\n",
        "# initializing list 1\n",
        "l = [2, 1, 3, 4]\n",
        "\n",
        "# using len() to print length of list\n",
        "print (\"The length of list is : \", len(l))\n",
        "\n",
        "# using min() to print minimum element of list\n",
        "print (\"The minimum element of list is : \", min(l))\n",
        "\n",
        "# using max() to print maximum element of list\n",
        "print (\"The maximum element of list is : \", max(l))"
      ]
    },
    {
      "cell_type": "markdown",
      "metadata": {
        "id": "lGl0dIZJV3Bv"
      },
      "source": [
        "Next, let's discuss \"+\" and \"*\" operators . The plus operator is used to concatenate to lists whereas the * star operator is used to combine the list n times and return a single list. So, here's an example we have 2 lists l1 and l2 and we are assigning l2 as l1 + l2 and then we are printing l3. Next, we have written l1* and 3 and assigning it as l4. Let's run the program, we can see that the l3 is the concatenation of l1 and l2 and l4 is l1 combined 3 times."
      ]
    },
    {
      "cell_type": "code",
      "execution_count": null,
      "metadata": {
        "colab": {
          "base_uri": "https://localhost:8080/"
        },
        "id": "3pH9_S3gX5QG",
        "outputId": "88550ddc-ab97-4af2-8603-be7544955e14"
      },
      "outputs": [
        {
          "name": "stdout",
          "output_type": "stream",
          "text": [
            "[1, 2, 3, 4, 5, 6]\n",
            "[1, 2, 3, 1, 2, 3, 1, 2, 3]\n"
          ]
        }
      ],
      "source": [
        "# \"+\" and \"*\" operators\n",
        "\n",
        "l1 = [1,2,3]\n",
        "l2 = [4,5,6]\n",
        "l3 = l1 + l2\n",
        "print(l1+l2)\n",
        "l4 = l1*3\n",
        "print(l4)"
      ]
    },
    {
      "cell_type": "markdown",
      "metadata": {
        "id": "S7F2tS-BYgfO"
      },
      "source": [
        "**index() and count() functions**. The index() function returns the index of first occurrence of an element whereas the count() function counts the number of occurrences of an element in the list. Let's look at an example, we declare a **list l = [1, 1, 2, 2, 2, 3, 4, 7]**. Now, to use index function **we write l.index and within brackets(2, 1, 8)** the number to be searched. So, we are searching for 2 from 1st to 8th element. To count the number of occurrences of 2, we write l.count and within brackets (2). Let's run this program, we can see that the first occurrence of 2 is at second index and total number of occurrences of 2 is 3."
      ]
    },
    {
      "cell_type": "code",
      "execution_count": null,
      "metadata": {
        "colab": {
          "base_uri": "https://localhost:8080/"
        },
        "id": "xaeYnAnFauLS",
        "outputId": "261c463d-6bf2-4210-96e8-699e3b4a627e"
      },
      "outputs": [
        {
          "name": "stdout",
          "output_type": "stream",
          "text": [
            "The first occurrence of 2 is:  2\n",
            "The number of occurrences of 2 is:  3\n"
          ]
        }
      ],
      "source": [
        "# index() and count()\n",
        "# initializing list\n",
        "l = [1, 1, 2, 2, 2, 3, 4, 7]\n",
        "\n",
        "print (\"The first occurrence of 2 is: \", l.index(2, 1, 8))\n",
        "\n",
        "print (\"The number of occurrences of 2 is: \", l.count(2))"
      ]
    },
    {
      "cell_type": "markdown",
      "metadata": {
        "id": "iNdySSK6e_VS"
      },
      "source": [
        "**LIST METHODS PART - 2**"
      ]
    },
    {
      "cell_type": "markdown",
      "metadata": {
        "id": "RAwq6LO9iJvl"
      },
      "source": [
        "**del() function and pop() function**. del() function deletes all the elements in range starting from index **'a'** till **'b'minus 1** mentioned in arguments and, pop deletes the element at the position mentioned in its argument. Let's look at an example. Suppose we have **lists l1 and l2**. Now, we first use del() to remove values from **index 1 to 5 in l1**. Next, we are using pop function to remove 3rd index of l2. Let's run this code. we can see that the output is as expected. In the first list elements from index 1 to 5 are removed and in l2 3rd index element is removed and rest elements have shifted accordingly."
      ]
    },
    {
      "cell_type": "code",
      "execution_count": null,
      "metadata": {
        "colab": {
          "base_uri": "https://localhost:8080/"
        },
        "id": "JulGyLCNkFr1",
        "outputId": "e2ae7d8c-4fb0-452b-c8d5-42d1ea7dd5db"
      },
      "outputs": [
        {
          "name": "stdout",
          "output_type": "stream",
          "text": [
            "List l1 initially [1, 2, 3, 4, 5, 6, 7, 8, 9]\n",
            "List l1 after using del function [1, 7, 8, 9]\n",
            "List l2 initially [1, 2, 3, 4, 5, 6, 7, 8, 9, 10]\n",
            "List l2 after using pop function [1, 2, 3, 5, 6, 7, 8, 9, 10]\n"
          ]
        }
      ],
      "source": [
        "#del(list[a:b]) removes elements from a to b-1\n",
        "#pop(a)\n",
        "\n",
        "l1 = [1,2,3,4,5,6,7,8,9]\n",
        "l2 = [1,2,3,4,5,6,7,8,9,10]\n",
        "print(\"List l1 initially\", l1)\n",
        "del(l1[1:6])\n",
        "print(\"List l1 after using del function\", l1)\n",
        "print(\"List l2 initially\", l2)\n",
        "l2.pop(3)\n",
        "print(\"List l2 after using pop function\", l2)"
      ]
    },
    {
      "cell_type": "markdown",
      "metadata": {
        "id": "W2bAu2L-lYfC"
      },
      "source": [
        "**insert() and remove() function**. insert() function is used to insert an element x at ith position mentioned in its argument. It takes 2 arguments, **first the position(i.e i) and second (i.e x)the element** to be inserted. The remove() function is used to remove the first occurrence of element x mentioned in its argument. Let's llok at an example, we have a list l and we are first **inserting 2 at 3rd index by writing l.insert(3,2)**and we are removing first occurrence of 4 by writing l.dot remove 4. Let's run this code. We can see that in the first output 2 is inserted at 3rd index and in the next output, first occurrence of 4 is removed."
      ]
    },
    {
      "cell_type": "code",
      "execution_count": null,
      "metadata": {
        "colab": {
          "base_uri": "https://localhost:8080/"
        },
        "id": "QobyVKe3nWQI",
        "outputId": "aff919ff-c763-4c0c-88d6-87495051598b"
      },
      "outputs": [
        {
          "name": "stdout",
          "output_type": "stream",
          "text": [
            "List after inserting 2 [1, 2, 3, 2, 4, 4, 5]\n",
            "List after removing first occurrence of 4 [1, 2, 3, 2, 4, 5]\n"
          ]
        }
      ],
      "source": [
        "#insert(i,x)\n",
        "#remove(x)\n",
        "\n",
        "l = [1,2,3,4,4,5]\n",
        "l.insert(3,2)\n",
        "print(\"List after inserting 2\",l)\n",
        "l.remove(4)\n",
        "print(\"List after removing first occurrence of 4\",l)"
      ]
    },
    {
      "cell_type": "markdown",
      "metadata": {
        "id": "dLINSmehp0O5"
      },
      "source": [
        "Next, let's discuss, **sort() and reverse() functions**. sort () is used to sort a list and reverse() is used to reverse a list. Let's look at an example directly, we have this list l = [1,4,2,3,7,6,3,4,100,67]. First we are sorting it and then we are reversing it. Let's run this code. We can see that the ouput is as expected."
      ]
    },
    {
      "cell_type": "code",
      "execution_count": null,
      "metadata": {
        "colab": {
          "base_uri": "https://localhost:8080/"
        },
        "id": "NrFmSzkCqvSt",
        "outputId": "85bbba90-c5d0-4abe-c8b5-ba3a1f5c0676"
      },
      "outputs": [
        {
          "name": "stdout",
          "output_type": "stream",
          "text": [
            "List after sorting becomes [1, 2, 3, 3, 4, 4, 6, 7, 67, 100]\n",
            "List after reversing becomes [100, 67, 7, 6, 4, 4, 3, 3, 2, 1]\n"
          ]
        }
      ],
      "source": [
        "#sort()\n",
        "#reverse()\n",
        "l = [1,4,2,3,7,6,3,4,100,67]\n",
        "l.sort()\n",
        "print(\"List after sorting becomes\", l)\n",
        "l.reverse()\n",
        "print(\"List after reversing becomes\", l)"
      ]
    },
    {
      "cell_type": "markdown",
      "metadata": {
        "id": "zT8deeb-rRDN"
      },
      "source": [
        "**extend() and clear() functions**. Extend is used to extend the list with the elements present in another list. It takes another list as its argument that is (<list>) where as the clear function is used to erase all the elements of list. After this operation, list becomes empty. Let's see an example, we have 2 lists l1 and l2. **l1 is extending l2, l1.extend(l2)** , after this we are clearing l2. Let's run this code. we can see that in the first output, l1 is combination of l1 and l2 and in the second output l2 is empty."
      ]
    },
    {
      "cell_type": "code",
      "execution_count": null,
      "metadata": {
        "colab": {
          "base_uri": "https://localhost:8080/"
        },
        "id": "pwjRqBx9szXm",
        "outputId": "53f912dd-d44a-4adf-b283-1c68df0aa0a8"
      },
      "outputs": [
        {
          "name": "stdout",
          "output_type": "stream",
          "text": [
            "List 1 after extending with list 2 [1, 2, 3, 4, 5, 6]\n",
            "List 2 after using clear function []\n"
          ]
        }
      ],
      "source": [
        "# extend(<list>)\n",
        "# clear\n",
        "\n",
        "l1 = [1,2,3]\n",
        "l2 = [4,5,6]\n",
        "l1.extend(l2)\n",
        "print(\"List 1 after extending with list 2\",l1)\n",
        "l2.clear()\n",
        "print(\"List 2 after using clear function\",l2)"
      ]
    },
    {
      "cell_type": "markdown",
      "metadata": {
        "id": "Db93lRfGtx6Y"
      },
      "source": [
        "**LOOPS AND CONTROL STEMENT IN PYTHON**"
      ]
    },
    {
      "cell_type": "markdown",
      "metadata": {
        "id": "V9yfyUNbt4YU"
      },
      "source": [
        "First let's discuss **while loop**. The syxtax for while loop is while(expression). The statement(s) runs while the expression is true. Let's look at an example, we are assigning the initial value of count = 0 , while count is smaller than 3 print hello world and count = count +1.This code will run 3 times. we can see that hello world is printed 3 times as expected."
      ]
    },
    {
      "cell_type": "code",
      "execution_count": null,
      "metadata": {
        "colab": {
          "base_uri": "https://localhost:8080/"
        },
        "id": "qEJgopx2vdyg",
        "outputId": "0f5aa952-1fb5-40c9-a996-69ea7fba0c52"
      },
      "outputs": [
        {
          "name": "stdout",
          "output_type": "stream",
          "text": [
            "Hello world\n",
            "Hello world\n",
            "Hello world\n"
          ]
        }
      ],
      "source": [
        "# while(expression):\n",
        "#  stement(s)\n",
        "\n",
        "count = 0\n",
        "while (count < 3):\n",
        "  print(\"Hello world\")\n",
        "  count = count + 1"
      ]
    },
    {
      "cell_type": "markdown",
      "metadata": {
        "id": "UcqcsW6Z4i9S"
      },
      "source": [
        "Here is the **syntax for a for loop in python**. Let's look at an example, we have list l and we are writing for iterator i in l, that means i will iterate from start to end of the list, and each time we print i. Let's run this code, we can see that all the values of the list are printed."
      ]
    },
    {
      "cell_type": "code",
      "execution_count": null,
      "metadata": {
        "colab": {
          "base_uri": "https://localhost:8080/"
        },
        "id": "trSEbMWD5QbB",
        "outputId": "251ad56b-07ac-49d7-e97f-2ae571bfa30c"
      },
      "outputs": [
        {
          "name": "stdout",
          "output_type": "stream",
          "text": [
            "This\n",
            "is\n",
            "geeksforgeeks\n"
          ]
        }
      ],
      "source": [
        "# for iterator_var in sequence:\n",
        "# statement(s)\n",
        "l = [\"This\", \"is\", \"geeksforgeeks\"]\n",
        "for i in l:\n",
        "  print(i)"
      ]
    },
    {
      "cell_type": "markdown",
      "metadata": {
        "id": "Fs55eWVd5oXu"
      },
      "source": [
        "Now. **let's look at nested loops**. Here are the syntax of nested loops both for the for loop and while loop. we can also have a for loop inside while loop and vice versa. Let's look at this example, we have a list containing words, so first we write for word in l and then there is an inner loop for character in word and we are printing the character. let's run this code, we can see that the characters of all the words are printed."
      ]
    },
    {
      "cell_type": "code",
      "execution_count": null,
      "metadata": {
        "colab": {
          "base_uri": "https://localhost:8080/"
        },
        "id": "VY5jOcYL6trY",
        "outputId": "87e0cf16-d0bb-400a-ba12-3ef30dd97cba"
      },
      "outputs": [
        {
          "name": "stdout",
          "output_type": "stream",
          "text": [
            "T\n",
            "h\n",
            "i\n",
            "s\n",
            "i\n",
            "s\n",
            "g\n",
            "e\n",
            "e\n",
            "k\n",
            "s\n",
            "f\n",
            "o\n",
            "r\n",
            "g\n",
            "e\n",
            "e\n",
            "k\n",
            "s\n"
          ]
        }
      ],
      "source": [
        "# nested for loop\n",
        "# for iterator_var in sequence:\n",
        "#     for iterator_var in sequence:\n",
        "#          statements(s)\n",
        "#          statements(s)\n",
        "\n",
        "# nested while loop\n",
        "# while expression:\n",
        "#    while expression:\n",
        "#         statements(s)\n",
        "#         statements(s)\n",
        "\n",
        "l = [\"This\", \"is\", \"geeksforgeeks\"]\n",
        "for word in l:\n",
        "  for character in word:\n",
        "    print(character)"
      ]
    },
    {
      "cell_type": "markdown",
      "metadata": {
        "id": "oK1OChBZ7ucI"
      },
      "source": [
        "**Now, let's look at some loop control statements**. Loop control statements change execution of a loop from its normal sequence. Let's first discuss the continue statement. The continue statement returns the control to the beginning of a loop. Let's look at an example, **suppose we have a string \"geeksforgeeks\".** Now we are using for loop to iterate the string. **if letter = 'e' or letter = 's'** we continue, else we print letter. Let's run this code. We can see that all the characters except e and s are printed, this is because of the continue statement."
      ]
    },
    {
      "cell_type": "code",
      "execution_count": null,
      "metadata": {
        "colab": {
          "base_uri": "https://localhost:8080/"
        },
        "id": "gMu5hmHs9R36",
        "outputId": "08cd2ada-ae0e-4de0-cdc6-f00558945a82"
      },
      "outputs": [
        {
          "name": "stdout",
          "output_type": "stream",
          "text": [
            "G\n",
            "k\n",
            "f\n",
            "o\n",
            "r\n",
            "G\n",
            "k\n"
          ]
        }
      ],
      "source": [
        "# continue statement\n",
        "l = \"GeeksforGeeks\"\n",
        "for letter in l:\n",
        "  if (letter == 'e' or letter =='s'):\n",
        "    continue;\n",
        "  else:\n",
        "    print(letter)"
      ]
    },
    {
      "cell_type": "markdown",
      "metadata": {
        "id": "HMOb6WuFtPNW"
      },
      "source": [
        "**Break statement** - brings control out of the loop. Let's look at the same example but this time we are using break statement in place of continue. Let's run the code. We can see that all the values before the first 'e' or first 's' are printed. This is because when the interpreter encountered an 'e' or 's', the loop break."
      ]
    },
    {
      "cell_type": "code",
      "execution_count": null,
      "metadata": {
        "colab": {
          "base_uri": "https://localhost:8080/"
        },
        "id": "1JAT-M6Mt8yt",
        "outputId": "4196596a-e637-41c2-e3de-c7e47585c0af"
      },
      "outputs": [
        {
          "name": "stdout",
          "output_type": "stream",
          "text": [
            "G\n"
          ]
        }
      ],
      "source": [
        "# break statement\n",
        "\n",
        "l = \"GeeksforGeeks\"\n",
        "for letter in l:\n",
        "  if(letter == 'e' or letter == 's'):\n",
        "    break;\n",
        "  else:\n",
        "    print(letter)"
      ]
    },
    {
      "cell_type": "markdown",
      "metadata": {
        "id": "LznsTW5RugTv"
      },
      "source": [
        "**Pass statement** - is used to write empty loops. Let's look at this example, we are using pass statement for the entire loop and just printing the value of last letter."
      ]
    },
    {
      "cell_type": "code",
      "execution_count": null,
      "metadata": {
        "colab": {
          "base_uri": "https://localhost:8080/"
        },
        "id": "NBIcLpxDu67A",
        "outputId": "875b92ad-5571-4df4-8432-e9ff1afcec21"
      },
      "outputs": [
        {
          "name": "stdout",
          "output_type": "stream",
          "text": [
            "Last letter:  s\n"
          ]
        }
      ],
      "source": [
        "# pass statement\n",
        "\n",
        "l = \"GeeksforGeeks\"\n",
        "for letter in l:\n",
        "  pass;\n",
        "print(\"Last letter: \",letter)"
      ]
    },
    {
      "cell_type": "markdown",
      "metadata": {
        "id": "ie9geglbvbMV"
      },
      "source": [
        "**SPLITTING AND USING LOGICAL OPERATORS ON STRING IN PYTHON**"
      ]
    },
    {
      "cell_type": "markdown",
      "metadata": {
        "id": "bnzE-_HCvi41"
      },
      "source": [
        "**In python we use the split function for splitting a string**. Let's look at an example. So, we have a string str = \"Geek1 Geek2 Geek3\" suppose we need to split this string and have Geek1, Geek2, and Geek3 in a list. So, we simply write l = str.split(). Now, l is a list containing these strings. let's run this code. we can see that the output is a list containing geek1 geek2 geek3."
      ]
    },
    {
      "cell_type": "code",
      "execution_count": null,
      "metadata": {
        "colab": {
          "base_uri": "https://localhost:8080/"
        },
        "id": "jk5UaqjawrRw",
        "outputId": "98e425b0-c510-47c6-96bd-533c1a217c9e"
      },
      "outputs": [
        {
          "name": "stdout",
          "output_type": "stream",
          "text": [
            "['Geek1', 'Geek2', 'Geek3']\n"
          ]
        }
      ],
      "source": [
        "#split with space\n",
        "\n",
        "str = \"Geek1 Geek2 Geek3\"\n",
        "l = str.split()\n",
        "print(l)"
      ]
    },
    {
      "cell_type": "markdown",
      "metadata": {
        "id": "rHpBo6w2w_zJ"
      },
      "source": [
        "**Let's look at another example, split with comma**. suppose we have this string and we wish to split the string with the comma. So, we simply write l = str.split('a'). let's run this code, we can see that the string is splitted with commas and we have all the values seperated."
      ]
    },
    {
      "cell_type": "code",
      "execution_count": null,
      "metadata": {
        "colab": {
          "base_uri": "https://localhost:8080/"
        },
        "id": "v_vL8XI1x_s0",
        "outputId": "498e2415-e94a-4a7c-aa65-2967318e425f"
      },
      "outputs": [
        {
          "name": "stdout",
          "output_type": "stream",
          "text": [
            "['Geek1', 'Geek2', 'Geek3']\n"
          ]
        }
      ],
      "source": [
        "#split with comma\n",
        "\n",
        "str = \"Geek1,Geek2,Geek3\"\n",
        "l = str.split(',')\n",
        "print(l)"
      ]
    },
    {
      "cell_type": "markdown",
      "metadata": {
        "id": "jA84PUBMyhXt"
      },
      "source": [
        "**Suppose we just need to split the first comma**, space or any character for that matter. For doing this, we write str.split and with in brackets comma and 1. Representing that we will split with just the first comma. Let's run this code, we can see that only the first comma is splitted."
      ]
    },
    {
      "cell_type": "code",
      "execution_count": null,
      "metadata": {
        "colab": {
          "base_uri": "https://localhost:8080/"
        },
        "id": "PGNzxbW1z6Vj",
        "outputId": "c5e8f6ce-b20b-4746-df31-eef17302dece"
      },
      "outputs": [
        {
          "name": "stdout",
          "output_type": "stream",
          "text": [
            "['Geek1', 'Geek2,Geek3']\n"
          ]
        }
      ],
      "source": [
        "#split with comma\n",
        "\n",
        "str = \"Geek1,Geek2,Geek3\"\n",
        "l = str.split(',',1)\n",
        "print(l)"
      ]
    },
    {
      "cell_type": "markdown",
      "metadata": {
        "id": "zvEUxFR10Wqy"
      },
      "source": [
        "**Logical Operators in python.** python considers empty strings as having boolean value of false and non-empty string having boolean value of true. For 'and' operator if left value is true, then right value is checked and returned. If left value is false, then left value is returned for 'or' operator i. str1 is an empty string so it represents false, str2 and str3 represents boolean true. Let's run this code. We can see that whenever we perform with an empty string, then the empty string is printed and whenever we perform or with an empty string, the other string is returned as empty string is boolean false when we perform and operatins on str2 and str3 then str3 is returned and when we perform or operation, then str2 is returned as both of them are boolean true."
      ]
    },
    {
      "cell_type": "code",
      "execution_count": null,
      "metadata": {
        "colab": {
          "base_uri": "https://localhost:8080/"
        },
        "id": "NIMs2AZm2VuX",
        "outputId": "84966387-7d15-4ec1-f814-cd8ee6ecf534"
      },
      "outputs": [
        {
          "name": "stdout",
          "output_type": "stream",
          "text": [
            "str1:   \n",
            "str2:  geeksforgeeks\n",
            "str3:  geeks\n",
            "str1 and str2:  geeksforgeeks\n",
            "str1 or str2:   \n",
            "str2 and str1:   \n",
            "str2 and str2:  geeksforgeeks\n",
            "str2 and str3:  geeks\n",
            "str2 or str3:  geeksforgeeks\n",
            "str3 and str2:  geeksforgeeks\n",
            "str3 or str2:  geeks\n"
          ]
        }
      ],
      "source": [
        "# logical operators\n",
        "\n",
        "str1 = \" \"\n",
        "str2 = \"geeksforgeeks\"\n",
        "str3 = \"geeks\"\n",
        "print(\"str1: \",str1)\n",
        "print(\"str2: \",str2)\n",
        "print(\"str3: \",str3)\n",
        "print(\"str1 and str2: \",str1 and str2)\n",
        "print(\"str1 or str2: \",str1 or str2)\n",
        "print(\"str2 and str1: \",str2 and str1)\n",
        "print(\"str2 and str2: \",str2 or str1)\n",
        "\n",
        "print(\"str2 and str3: \",str2 and str3)\n",
        "print(\"str2 or str3: \",str2 or str3)\n",
        "print(\"str3 and str2: \",str3 and str2)\n",
        "print(\"str3 or str2: \",str3 or str2)"
      ]
    },
    {
      "cell_type": "markdown",
      "metadata": {
        "id": "e1jltYFn7dKh"
      },
      "source": [
        "**TUPLES PYTHON**"
      ]
    },
    {
      "cell_type": "markdown",
      "metadata": {
        "id": "N2rs9hl67kD0"
      },
      "source": [
        "In some way tuples are similar to lists in terms of indexing, nested objects and repetitions. The difference is that tuples are immutable. That is, they cannot be changed once declared. Let's first discuss how to create tuples. To create an empty tuple we write empty_tuple = round brackets open and close. To create non empty tuples we add values in a tuple like this.Just like strings, **we can have string, integers and other data types in tuple.**Let's run thise code, we can see that the first tuple is empty and next one contains all the values we had in parenthesis."
      ]
    },
    {
      "cell_type": "code",
      "execution_count": null,
      "metadata": {
        "colab": {
          "base_uri": "https://localhost:8080/"
        },
        "id": "AI9qXRAe9Swj",
        "outputId": "2bf6de0b-4053-43ac-b133-132f72961006"
      },
      "outputs": [
        {
          "name": "stdout",
          "output_type": "stream",
          "text": [
            "()\n",
            "('geeks', 'for', 'geeks', 3)\n"
          ]
        }
      ],
      "source": [
        "# creating tuples\n",
        "empty_tuple = ()\n",
        "print(empty_tuple)\n",
        "tup1 = ('geeks', 'for', 'geeks', 3)\n",
        "print(tup1)"
      ]
    },
    {
      "cell_type": "markdown",
      "metadata": {
        "id": "Q07dkNeX--TR"
      },
      "source": [
        "For the **concatenation of tuples we use the plus operator**. Let's see this example, we have two tuples and we are printing their concatenation. Let's run this code, we can see that output is as expected."
      ]
    },
    {
      "cell_type": "code",
      "execution_count": null,
      "metadata": {
        "colab": {
          "base_uri": "https://localhost:8080/"
        },
        "id": "nR6by35kN7-M",
        "outputId": "e7a49183-4e0e-481d-efb8-50949902ce62"
      },
      "outputs": [
        {
          "name": "stdout",
          "output_type": "stream",
          "text": [
            "('geeks', 'for', 'geeks', 1, 2, 3)\n"
          ]
        }
      ],
      "source": [
        "# Concatenation of tuples\n",
        "\n",
        "tup1 = ('geeks', 'for', 'geeks')\n",
        "tup2 = (1,2,3)\n",
        "print(tup1 + tup2)"
      ]
    },
    {
      "cell_type": "markdown",
      "metadata": {
        "id": "mNkIGmwAOXE7"
      },
      "source": [
        "**Next, let's see nested tuples**. Nested tuples are tuples containing two or more other tuples to perform this, we do something we declare all the tuples that we want to have in a single one. Next, we declare a new tuple and add all of them like this. Let's run this code. we can see that output is a single tuple containing all of them."
      ]
    },
    {
      "cell_type": "code",
      "execution_count": null,
      "metadata": {
        "colab": {
          "base_uri": "https://localhost:8080/"
        },
        "id": "kSQ9xxIaPSa_",
        "outputId": "d9afe672-7231-441c-bf94-20d3a652d958"
      },
      "outputs": [
        {
          "name": "stdout",
          "output_type": "stream",
          "text": [
            "(('geeks', 'for', 'geeks'), 'python')\n"
          ]
        }
      ],
      "source": [
        "# Nested tuples\n",
        "\n",
        "tuple1 = ('geeks', 'for', 'geeks')\n",
        "tuple2 = ('python')\n",
        "tuple3 = (tuple1,tuple2)\n",
        "print(tuple3)"
      ]
    },
    {
      "cell_type": "markdown",
      "metadata": {
        "id": "LaZDyF1JP1dy"
      },
      "source": [
        "**Suppose we want to have repetition in our tuple**, to do this, we declare a tuple like this tuple1 = ('python',)*4 and in the end add a multiply sign followed by the number repetitions you want. Let's run this code, we can see that output is a tuple having the string python4 times.\n"
      ]
    },
    {
      "cell_type": "code",
      "execution_count": null,
      "metadata": {
        "colab": {
          "base_uri": "https://localhost:8080/"
        },
        "id": "-_MPuwmZQrem",
        "outputId": "0f3a08f3-7dd4-4468-86f9-b1a8c18b460a"
      },
      "outputs": [
        {
          "name": "stdout",
          "output_type": "stream",
          "text": [
            "('python', 'python', 'python', 'python')\n"
          ]
        }
      ],
      "source": [
        "# repetition in tuples\n",
        "\n",
        "tuple1 = ('python',)*4\n",
        "print(tuple1)"
      ]
    },
    {
      "cell_type": "markdown",
      "metadata": {
        "id": "UE-92N8VRFQ4"
      },
      "source": [
        "**As we have discussed earlier, tuples are immutable. Let's look at this example, here we are trying to change the first element of the tuple as we did in list. Let's run this code, we can see that we are getting an error stating that tuple object does not support item assignment. This is because tuples are immutable and cannot be changed**."
      ]
    },
    {
      "cell_type": "code",
      "execution_count": null,
      "metadata": {
        "colab": {
          "base_uri": "https://localhost:8080/",
          "height": 217
        },
        "id": "gnjku7gSSCze",
        "outputId": "c3f3d839-74b5-4717-a11b-ffa30eb9230c"
      },
      "outputs": [
        {
          "ename": "TypeError",
          "evalue": "ignored",
          "output_type": "error",
          "traceback": [
            "\u001b[0;31m---------------------------------------------------------------------------\u001b[0m",
            "\u001b[0;31mTypeError\u001b[0m                                 Traceback (most recent call last)",
            "\u001b[0;32m<ipython-input-4-85b1eff90cf3>\u001b[0m in \u001b[0;36m<cell line: 3>\u001b[0;34m()\u001b[0m\n\u001b[1;32m      1\u001b[0m \u001b[0;31m# tuples are immutable\u001b[0m\u001b[0;34m\u001b[0m\u001b[0;34m\u001b[0m\u001b[0m\n\u001b[1;32m      2\u001b[0m \u001b[0mtuple1\u001b[0m \u001b[0;34m=\u001b[0m \u001b[0;34m(\u001b[0m\u001b[0;36m0\u001b[0m\u001b[0;34m,\u001b[0m\u001b[0;36m1\u001b[0m\u001b[0;34m,\u001b[0m\u001b[0;36m2\u001b[0m\u001b[0;34m,\u001b[0m\u001b[0;36m3\u001b[0m\u001b[0;34m)\u001b[0m\u001b[0;34m\u001b[0m\u001b[0;34m\u001b[0m\u001b[0m\n\u001b[0;32m----> 3\u001b[0;31m \u001b[0mtuple1\u001b[0m\u001b[0;34m[\u001b[0m\u001b[0;36m1\u001b[0m\u001b[0;34m]\u001b[0m \u001b[0;34m=\u001b[0m \u001b[0;36m4\u001b[0m\u001b[0;34m\u001b[0m\u001b[0;34m\u001b[0m\u001b[0m\n\u001b[0m\u001b[1;32m      4\u001b[0m \u001b[0mprint\u001b[0m\u001b[0;34m(\u001b[0m\u001b[0mtuple1\u001b[0m\u001b[0;34m)\u001b[0m\u001b[0;34m\u001b[0m\u001b[0;34m\u001b[0m\u001b[0m\n",
            "\u001b[0;31mTypeError\u001b[0m: 'tuple' object does not support item assignment"
          ]
        }
      ],
      "source": [
        "# tuples are immutable\n",
        "tuple1 = (0,1,2,3)\n",
        "tuple1[1] = 4\n",
        "print(tuple1)"
      ]
    },
    {
      "cell_type": "markdown",
      "metadata": {
        "id": "EMtaiEkNSRv2"
      },
      "source": [
        "**To find the length of a tuple, we can use len function**. We can see this example, we have declared a tuple and we are writing len and within parenthesis the name of tuple. Let's run this code, we can see that the output is 3."
      ]
    },
    {
      "cell_type": "code",
      "execution_count": null,
      "metadata": {
        "colab": {
          "base_uri": "https://localhost:8080/"
        },
        "id": "AxV1Qv-mS2rz",
        "outputId": "1ca99485-f916-4f40-aed6-0f5eddd2d3c5"
      },
      "outputs": [
        {
          "name": "stdout",
          "output_type": "stream",
          "text": [
            "length of this tuple is:  3\n"
          ]
        }
      ],
      "source": [
        "# length of a tuple\n",
        "\n",
        "tuple1 = (1,2,3)\n",
        "print(\"length of this tuple is: \",len(tuple1))"
      ]
    },
    {
      "cell_type": "markdown",
      "metadata": {
        "id": "bqH4n93yTPIA"
      },
      "source": [
        "**Let's look at how to convert list to a tuple**. Suppose we have list, now to convert this list into a tuple we can write tuple and within brackets the name of list and assign it to some other variable. Let's run this code, we can see that temp is a tuple containing same values as"
      ]
    },
    {
      "cell_type": "code",
      "execution_count": null,
      "metadata": {
        "colab": {
          "base_uri": "https://localhost:8080/"
        },
        "id": "TQHt1qDOT7qV",
        "outputId": "527c89a8-f408-4898-e7fa-f8d0b50cb70a"
      },
      "outputs": [
        {
          "name": "stdout",
          "output_type": "stream",
          "text": [
            "(1, 2, 3)\n"
          ]
        }
      ],
      "source": [
        "# converting list to tuple\n",
        "\n",
        "list1 = [1,2,3]\n",
        "temp = tuple(list1)\n",
        "print(temp)"
      ]
    },
    {
      "cell_type": "markdown",
      "metadata": {
        "id": "cqwXrNDWLXJp"
      },
      "source": [
        "**SLICING AND SPLITTING IN PYTHON**"
      ]
    },
    {
      "cell_type": "markdown",
      "metadata": {
        "id": "OXocmwF-Lfle"
      },
      "source": [
        "**Slicing can be done on lists, strings and tuples. Slicing in python can be done in this format, List1 [start:end:step]**. By writing this, we get values from index start to end - 1 with an index difference equal to step. Let's see this code, we have a list and we are slicing it from index 1 to 4 with a step equal to 1. Let's run this code, we can see that all the values from index 1 to 4 of the list l are printed."
      ]
    },
    {
      "cell_type": "code",
      "execution_count": null,
      "metadata": {
        "colab": {
          "base_uri": "https://localhost:8080/"
        },
        "id": "p3B2fgFCX3t3",
        "outputId": "8d789edc-0fdb-4681-c151-83ebb9188bc0"
      },
      "outputs": [
        {
          "name": "stdout",
          "output_type": "stream",
          "text": [
            "List:  [1, 2, 3, 4, 5, 6, 7, 8]\n",
            "After Slicing\n",
            "[2, 3, 4]\n"
          ]
        }
      ],
      "source": [
        "#Slicing\n",
        "#list1[start:end:step]\n",
        "list1 = [1,2,3,4,5,6,7,8]\n",
        "print(\"List: \", list1)\n",
        "print(\"After Slicing\")\n",
        "print(list1[1:4:1])"
      ]
    },
    {
      "cell_type": "markdown",
      "metadata": {
        "id": "gYoYElj3ZLQZ"
      },
      "source": [
        "**If we are using a positive value of step, then the default value of start and end is the starting and ending index of the list respectively. Whereas, if we are using a negative value of step, then the default values of start and end is the ending index and starting index of the list that is, just the opposite as in the case of positive step. Let's look at this example, here we are using this property to print a list in reverse. By writing this, we mean start = 4, end = 0 and step = -1 that is values from index 4 to zero are printed. Let's run this code. we can see that reverse of the list is printed**."
      ]
    },
    {
      "cell_type": "code",
      "execution_count": null,
      "metadata": {
        "colab": {
          "base_uri": "https://localhost:8080/"
        },
        "id": "6te6GESDaua6",
        "outputId": "71b0419b-c0ac-4c72-a075-dedd8d42d564"
      },
      "outputs": [
        {
          "name": "stdout",
          "output_type": "stream",
          "text": [
            "List:  [1, 2, 3, 4]\n",
            "Reversed list\n",
            "[4, 3, 2, 1]\n"
          ]
        }
      ],
      "source": [
        "# Slicing\n",
        "list1 = [1,2,3,4]\n",
        "print(\"List: \", list1)\n",
        "print(\"Reversed list\")\n",
        "print(list1[::-1]) # start = 4 and end = 0"
      ]
    },
    {
      "cell_type": "markdown",
      "metadata": {
        "id": "dxUkzoptbZs7"
      },
      "source": [
        "**Now, let's learn splitting a string in python**. To split a string we use split function. This is generally used when we have a string containing the elements separated by a character. It could be a comma, space or anything. Suppose we have a string like this and we wish to all the names of fruits in a list. So, str is a string containing the names of fruits separated by a comma, to get these into a list we arite, str.split and within brackets a comma and assign it to a list variable. Let's run this program, we can see that all the elements are now in a list."
      ]
    },
    {
      "cell_type": "code",
      "execution_count": null,
      "metadata": {
        "colab": {
          "base_uri": "https://localhost:8080/"
        },
        "id": "H5GVKJ7Qcjrl",
        "outputId": "1217177a-fc18-4aaf-e5fe-797814b5928f"
      },
      "outputs": [
        {
          "name": "stdout",
          "output_type": "stream",
          "text": [
            "['Banana,Apple,Orange,Papaya']\n"
          ]
        }
      ],
      "source": [
        "# Splitting\n",
        "\n",
        "str1 = \"Banana,Apple,Orange,Papaya\"\n",
        "list1 = str1.split(' ')\n",
        "print(list1)"
      ]
    },
    {
      "cell_type": "markdown",
      "metadata": {
        "id": "ejAP_ajk1mgd"
      },
      "source": [
        "Let's look at another example, here we have 3 values separated by a space. To get these values into 3 different variables, we arite, a comma b comma c = str.split(). If we do not have anything in the argument of split, it takes space as default. Let's run this code."
      ]
    },
    {
      "cell_type": "code",
      "execution_count": null,
      "metadata": {
        "colab": {
          "base_uri": "https://localhost:8080/"
        },
        "id": "6sa7ZJ953KS7",
        "outputId": "084319c1-dff4-4c65-83ad-d99ea8dad391"
      },
      "outputs": [
        {
          "name": "stdout",
          "output_type": "stream",
          "text": [
            "value1 value2 value3\n"
          ]
        }
      ],
      "source": [
        "# Splitting\n",
        "\n",
        "str1 = \"value1 value2 value3\"\n",
        "a,b,c = str1.split()\n",
        "print(a,b,c)"
      ]
    },
    {
      "cell_type": "markdown",
      "metadata": {
        "id": "3V3iWnji3gl-"
      },
      "source": [
        "**DICTIONARY PART- 1**"
      ]
    },
    {
      "cell_type": "markdown",
      "metadata": {
        "id": "aXpKsOQY3zsD"
      },
      "source": [
        "**In python, dictionary is similar to hash or maps in other languages. It consists of key value pairs. The value can be accesses by unique key in the dictionary. Let's first learn how to create a dictionary. To create an empty dictionary we use the keyword dict() and assign it to a variable. For adding values in this dictionary we do something like this. We write the dictionary variable and with the brackets we write the key equals to the value. Now, key xyz is assigned to 1. Similarly we have created two more key value pairs. Now, let's print this dictionary. we can see that, all the keys are assigned to their respective values. Now, let's suppose we just need the keys. so we write, print(d.keys(). Let's run this code. we can see that all the keys of the  dictionary are printed**."
      ]
    },
    {
      "cell_type": "code",
      "execution_count": null,
      "metadata": {
        "colab": {
          "base_uri": "https://localhost:8080/"
        },
        "id": "CoFEf8kSCSru",
        "outputId": "45749770-eab6-4daf-b2e9-d6035a98b24e"
      },
      "outputs": [
        {
          "name": "stdout",
          "output_type": "stream",
          "text": [
            "{}\n",
            "{'xyz': 1, 'abc': 2, 'lmn': 3}\n"
          ]
        }
      ],
      "source": [
        "# Dictionary in Python\n",
        "d = dict()\n",
        "print(d)\n",
        "d['xyz'] = 1\n",
        "d['abc'] = 2\n",
        "d['lmn'] = 3\n",
        "print(d)"
      ]
    },
    {
      "cell_type": "markdown",
      "metadata": {
        "id": "9NV5MVWifSP8"
      },
      "source": [
        "Now, let's suppose we just need the keys. so we write, print, d.keys(). Let's run this code. We can see that the keys of the dictionary are printed."
      ]
    },
    {
      "cell_type": "code",
      "execution_count": null,
      "metadata": {
        "colab": {
          "base_uri": "https://localhost:8080/"
        },
        "id": "amP0JmJxfyLH",
        "outputId": "6fa1a9b9-e424-48f9-b5ab-25ab1a2d41a7"
      },
      "outputs": [
        {
          "name": "stdout",
          "output_type": "stream",
          "text": [
            "dict_keys(['xyz', 'abc', 'lmn'])\n"
          ]
        }
      ],
      "source": [
        "# Dictionary in Python\n",
        "d = dict()\n",
        "d['xyz'] = 1\n",
        "d['abc'] = 2\n",
        "d['lmn'] = 3\n",
        "print(d.keys())\n",
        "\n"
      ]
    },
    {
      "cell_type": "markdown",
      "metadata": {
        "id": "Dr8AN3nzgIqS"
      },
      "source": [
        "**To print all the values of the dictionary. we write, d.values()**. Let's run this code. we can see that all the values are printed this time. Let's see how to delete a key value pair in dictionaries. To delete a key value pair, we write del and then write the name of dictionary variable and within square brackets the key you wish to delete. Let's run this code, we can see that xyz is deleted from the dictionary."
      ]
    },
    {
      "cell_type": "code",
      "execution_count": null,
      "metadata": {
        "colab": {
          "base_uri": "https://localhost:8080/"
        },
        "id": "YgtyXFmyhkck",
        "outputId": "dfcc4810-a733-42b5-f2e3-bb319c837b4d"
      },
      "outputs": [
        {
          "name": "stdout",
          "output_type": "stream",
          "text": [
            "{'xyz': 1, 'abc': 2, 'lmn': 3}\n",
            "{'abc': 2, 'lmn': 3}\n"
          ]
        }
      ],
      "source": [
        "# Dictionary in python\n",
        "d = dict()\n",
        "d['xyz'] = 1\n",
        "d['abc'] = 2\n",
        "d['lmn'] = 3\n",
        "print(d)\n",
        "del d['xyz']\n",
        "print(d)"
      ]
    },
    {
      "cell_type": "markdown",
      "metadata": {
        "id": "qSZFXySJiEr7"
      },
      "source": [
        "**There is another way of declaring a dictionary in Python**. We can declare a dictionary by using curly brackets and within brackets we put all the key value pairs like this. we can check whether a key exists or not in dictionary. To do so, we do something like this. It will print True or False depending whether the key exists or not. Let's run this code. we can see that the output is true."
      ]
    },
    {
      "cell_type": "code",
      "execution_count": null,
      "metadata": {
        "colab": {
          "base_uri": "https://localhost:8080/"
        },
        "id": "KetDkkOxi7bZ",
        "outputId": "74d90b2a-21fb-4656-919e-e4033ba816ae"
      },
      "outputs": [
        {
          "name": "stdout",
          "output_type": "stream",
          "text": [
            "{'xyz': 1, 'abc': 2, 'def': 3}\n",
            "True\n"
          ]
        }
      ],
      "source": [
        "# Dictionary in python\n",
        "d = {'xyz':1,'abc':2,'def':3}\n",
        "print(d)\n",
        "print('xyz' in d)"
      ]
    },
    {
      "cell_type": "markdown",
      "metadata": {
        "id": "f-bgLw3rjkJZ"
      },
      "source": [
        "**DICTIONARY PART - 2**"
      ]
    },
    {
      "cell_type": "markdown",
      "metadata": {
        "id": "VNXK8zdjjr3e"
      },
      "source": [
        "**Let's discuss the len function**. This function returns the count of key entities of the dictionary. To use len function, we just write len and within brackets, the name of dictionary. Let's run this code, **we can see that the length of this dictionary is 3**. This is the number of key value pairs in the dictionary."
      ]
    },
    {
      "cell_type": "code",
      "execution_count": null,
      "metadata": {
        "colab": {
          "base_uri": "https://localhost:8080/"
        },
        "id": "KpELR-HTlV2D",
        "outputId": "c8b4f902-0e1d-4c30-b70c-9b3f68d39424"
      },
      "outputs": [
        {
          "name": "stdout",
          "output_type": "stream",
          "text": [
            "{'abc': 1, 'cde': 2, 'def': 3}\n",
            "3\n"
          ]
        }
      ],
      "source": [
        "# len function\n",
        "d = {'abc':1,'cde':2,'def':3}\n",
        "print(d)\n",
        "print(len(d))"
      ]
    },
    {
      "cell_type": "markdown",
      "metadata": {
        "id": "DidxQKVEloy5"
      },
      "source": [
        "To convert dictionary into a string, we use the \"str\" function. Here we are using the \"str\" function to convert this dictionary into a string and we are printing the first 5 values of this string. Let's run this code. We can see that first 5 values of the string are printed."
      ]
    },
    {
      "cell_type": "code",
      "execution_count": null,
      "metadata": {
        "colab": {
          "base_uri": "https://localhost:8080/"
        },
        "id": "HLCuQ8eSm_Bg",
        "outputId": "be57e55a-f94a-44ca-b498-f6fd77585580"
      },
      "outputs": [
        {
          "output_type": "stream",
          "name": "stdout",
          "text": [
            "{'abc': 1, 'cde': 2, 'def': 3}\n",
            "{'abc\n"
          ]
        }
      ],
      "source": [
        "# dictionary to string\n",
        "d = {'abc':1,'cde':2, 'def':3}\n",
        "str1 = str(d)\n",
        "print(str1)\n",
        "print(str1[0:5:1])"
      ]
    },
    {
      "cell_type": "markdown",
      "source": [
        "**Let's discuss the item function**. This function is used to return the list with all dictionary keys with values. Let's run the function items on this dictionary. We can see that, all the keys and values of this dictionary are returned. We can also see that the key key value of this dictionary are printed in no particular order."
      ],
      "metadata": {
        "id": "7XQtueoIsEfX"
      }
    },
    {
      "cell_type": "code",
      "source": [
        "# items()\n",
        "d = {'abc':1,'cde':2,'def':3,'fgh':4}\n",
        "print(d.items())"
      ],
      "metadata": {
        "colab": {
          "base_uri": "https://localhost:8080/"
        },
        "id": "1K3S2DOPswC4",
        "outputId": "9dfeb489-ea3e-4de5-876c-e9a7e691cc01"
      },
      "execution_count": null,
      "outputs": [
        {
          "output_type": "stream",
          "name": "stdout",
          "text": [
            "dict_items([('abc', 1), ('cde', 2), ('def', 3), ('fgh', 4)])\n"
          ]
        }
      ]
    },
    {
      "cell_type": "markdown",
      "source": [
        "**Let's discuss the copy function**. Copy function is used to create a copy of one dictionary into another. Here's an example, we are using the copy function to copy the contents of dictionary 1 into dictionary 2. Let's run this code, we can see that dictionary 2 is now same as dictionary 1."
      ],
      "metadata": {
        "id": "bADeEJMTtNlc"
      }
    },
    {
      "cell_type": "code",
      "source": [
        "# copy() and clear()\n",
        "d1 = {'abc':1,'cde':2,'def':3,'fgh':4}\n",
        "d2 = {}\n",
        "d2 = d1.copy()\n",
        "#d1.clear()\n",
        "print(d1)\n",
        "print(d2)\n"
      ],
      "metadata": {
        "colab": {
          "base_uri": "https://localhost:8080/"
        },
        "id": "0dr3a2wGt46k",
        "outputId": "2966d66e-7db8-4357-82a5-2ad7c95ec19e"
      },
      "execution_count": null,
      "outputs": [
        {
          "output_type": "stream",
          "name": "stdout",
          "text": [
            "{'abc': 1, 'cde': 2, 'def': 3, 'fgh': 4}\n",
            "{'abc': 1, 'cde': 2, 'def': 3, 'fgh': 4}\n"
          ]
        }
      ]
    },
    {
      "cell_type": "markdown",
      "source": [
        "Now, suppose we need to clear dictionary1. To clear a dictionary, we use clear function. Now, let's clear dictionary 1 by writing d1.clear(). Let's run this code.  we can see that dictionary 1 is clear now."
      ],
      "metadata": {
        "id": "GAN3XZKIuhUs"
      }
    },
    {
      "cell_type": "code",
      "source": [
        "d1 = {'abc':1,'cde':2,'def':3,'fgh':4}\n",
        "d2 = {}\n",
        "d2 = d1.copy()\n",
        "d1.clear()\n",
        "print(d1)\n",
        "print(d2)"
      ],
      "metadata": {
        "colab": {
          "base_uri": "https://localhost:8080/"
        },
        "id": "vZAf2x9zu-CF",
        "outputId": "259285d2-cf33-4581-9c3a-645ca4d50072"
      },
      "execution_count": null,
      "outputs": [
        {
          "output_type": "stream",
          "name": "stdout",
          "text": [
            "{}\n",
            "{'abc': 1, 'cde': 2, 'def': 3, 'fgh': 4}\n"
          ]
        }
      ]
    },
    {
      "cell_type": "markdown",
      "source": [
        "**DICTIONARY - PART 3 | PYTHON**"
      ],
      "metadata": {
        "id": "fCo_y_NAvYgH"
      }
    },
    {
      "cell_type": "markdown",
      "source": [
        "**Let's first discuss the update function**. This function is used to update the dictionary to add other dictionary keys. let's see this example. we have 2 dictionaries, **one containing the name and age and dictionary 2 containing the roll number**. we are updating dictionary 1 with dictionary 2. Let's run this code. we can see that dictionary 1 now contains roll number too."
      ],
      "metadata": {
        "id": "Zcklq0uovflb"
      }
    },
    {
      "cell_type": "code",
      "source": [
        "# update()\n",
        "d1 = {'Name':'Aneesh','Age':14}\n",
        "d2 = {'Roll Number':2015155}\n",
        "d1.update(d2)\n",
        "print(d1)"
      ],
      "metadata": {
        "colab": {
          "base_uri": "https://localhost:8080/"
        },
        "id": "FVY5grcewWpz",
        "outputId": "7d7f7812-aff8-4fac-e1f8-b51723653f26"
      },
      "execution_count": null,
      "outputs": [
        {
          "output_type": "stream",
          "name": "stdout",
          "text": [
            "{'Name': 'Aneesh', 'Age': 14, 'Roll Number': 2015155}\n"
          ]
        }
      ]
    },
    {
      "cell_type": "markdown",
      "source": [
        "**Let's discuss the get function**. This function return the value associated with the key mentioned in its argument. **If key is not present, the default value is returned**. Here's the format for using this function. Let's look at this example, we have a dictionary and we are checking the value associated with roll_number and name using get function with default value, \"not present\".we can see that in the dictionary we just have the name and not the roll number. so, let's run this code. we can see that the value associated with name is printed and for ID not present is printed.  "
      ],
      "metadata": {
        "id": "7hMHMbawwyqV"
      }
    },
    {
      "cell_type": "code",
      "source": [
        "# get(key,def_value) function\n",
        "\n",
        "d = {'Name':'Aneesh'}\n",
        "print(d.get('Name',\"Not Present\"))\n",
        "print(d.get('Roll_number',\"Not Present\"))\n",
        "print(d)\n"
      ],
      "metadata": {
        "id": "oIWbITp5xkTj",
        "colab": {
          "base_uri": "https://localhost:8080/"
        },
        "outputId": "e197c568-265a-442a-d762-fe373a40cea9"
      },
      "execution_count": null,
      "outputs": [
        {
          "output_type": "stream",
          "name": "stdout",
          "text": [
            "Aneesh\n",
            "Not Present\n",
            "{'Name': 'Aneesh'}\n"
          ]
        }
      ]
    },
    {
      "cell_type": "markdown",
      "source": [
        "Let's discuss the **set default function**. This function also searches for a key and desplays it's value like get() but, it creates new key default value if key is not present. Let's look at the same example by simply changing get to set default. Let's run this code, we can see that the first 2 outputs are same. But this time there is a new key in the dictionary with default value not present."
      ],
      "metadata": {
        "id": "G0V8wdafxFj3"
      }
    },
    {
      "cell_type": "code",
      "source": [
        "# setdefault(key,def_value) function\n",
        "\n",
        "d = {'Name':'Aneesh'}\n",
        "print(d.setdefault('Name',\"Not Present\"))\n",
        "print(d.setdefault('Roll_number',\"Not Present\"))\n",
        "print(d)"
      ],
      "metadata": {
        "colab": {
          "base_uri": "https://localhost:8080/"
        },
        "id": "KGhaViFkx9SU",
        "outputId": "a6c4029e-98cc-44c2-904f-4b612e0c738a"
      },
      "execution_count": null,
      "outputs": [
        {
          "output_type": "stream",
          "name": "stdout",
          "text": [
            "Aneesh\n",
            "Not Present\n",
            "{'Name': 'Aneesh', 'Roll_number': 'Not Present'}\n"
          ]
        }
      ]
    },
    {
      "cell_type": "markdown",
      "source": [
        "**Python Type Conversion**"
      ],
      "metadata": {
        "id": "_FBjXF8ICA5g"
      }
    },
    {
      "cell_type": "markdown",
      "source": [
        "**Python defines type conversion functions to directly convert one data type to another**. First let's discuss the int and float functions. **The int function converts any data type to integer**. And float function is used to convert any data type to a floating point number. **We have declare a string \"1001\"**. Now we are converting it to integer with base 2 and base 10. Let's run this code. **we can see that the output is 9 and 1001**. As they are binary and decimal conversion of string 1001. Now let's convert this string to float by using the float function. Let's run this code again , we can see that string 1001 is converted to float."
      ],
      "metadata": {
        "id": "C9h7ogruCIPp"
      }
    },
    {
      "cell_type": "code",
      "source": [],
      "metadata": {
        "id": "xDcK6QKZE0iW"
      },
      "execution_count": null,
      "outputs": []
    }
  ],
  "metadata": {
    "colab": {
      "provenance": []
    },
    "kernelspec": {
      "display_name": "Python 3",
      "name": "python3"
    },
    "language_info": {
      "name": "python"
    }
  },
  "nbformat": 4,
  "nbformat_minor": 0
}